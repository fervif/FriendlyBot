{
 "cells": [
  {
   "cell_type": "code",
   "execution_count": 16,
   "id": "f16bd254-54fa-48a5-aac7-b781ea2ae608",
   "metadata": {},
   "outputs": [
    {
     "name": "stderr",
     "output_type": "stream",
     "text": [
      "All model checkpoint layers were used when initializing TFGPT2LMHeadModel.\n",
      "\n",
      "All the layers of TFGPT2LMHeadModel were initialized from the model checkpoint at microsoft/DialoGPT-medium.\n",
      "If your task is similar to the task the model of the checkpoint was trained on, you can already use TFGPT2LMHeadModel for predictions without further training.\n"
     ]
    },
    {
     "name": "stdout",
     "output_type": "stream",
     "text": [
      "Running on local URL:  http://127.0.0.1:7862\n",
      "\n",
      "To create a public link, set `share=True` in `launch()`.\n"
     ]
    },
    {
     "data": {
      "text/html": [
       "<div><iframe src=\"http://127.0.0.1:7862/\" width=\"100%\" height=\"500\" allow=\"autoplay; camera; microphone; clipboard-read; clipboard-write;\" frameborder=\"0\" allowfullscreen></iframe></div>"
      ],
      "text/plain": [
       "<IPython.core.display.HTML object>"
      ]
     },
     "metadata": {},
     "output_type": "display_data"
    },
    {
     "data": {
      "text/plain": []
     },
     "execution_count": 16,
     "metadata": {},
     "output_type": "execute_result"
    }
   ],
   "source": [
    "import random\n",
    "from transformers import pipeline\n",
    "import gradio as gr\n",
    "\n",
    "# List of jokes for the chatbot\n",
    "jokes = [\n",
    "    \"Why don't scientists trust atoms? Because they make up everything!\",\n",
    "    \"Why did the math book look sad? Because it had too many problems.\",\n",
    "    \"Why was the broom late? It swept in!\",\n",
    "    \"Why don't skeletons fight each other? They don't have the guts!\",\n",
    "    \"What do you call fake spaghetti? An impasta!\"\n",
    "]\n",
    "\n",
    "# Initialize the chatbot pipeline using DialoGPT\n",
    "chat_pipeline = pipeline(\"text-generation\", model=\"microsoft/DialoGPT-medium\")\n",
    "\n",
    "# Function to handle user input and generate a response\n",
    "def respond_to_input(user_input):\n",
    "    if \"joke\" in user_input.lower():  # Detect if the user asks for a joke\n",
    "        return random.choice(jokes)  # Return a random joke from the list\n",
    "    else:\n",
    "        response = chat_pipeline(user_input, max_length=100)  # Generate a response using the model\n",
    "        return response[0]['generated_text']  # Return the generated response\n",
    "\n",
    "# Create the Gradio interface\n",
    "interface = gr.Interface(\n",
    "    fn=respond_to_input, \n",
    "    inputs=\"text\", \n",
    "    outputs=\"text\", \n",
    "    title=\"AI Chatbot\", \n",
    "    description=\"Talk to a chatbot powered by DialoGPT.\"\n",
    ")\n",
    "\n",
    "# Launch the Gradio interface\n",
    "interface.launch()\n"
   ]
  },
  {
   "cell_type": "code",
   "execution_count": null,
   "id": "94643309-9abb-4bcc-8bb1-14c2dd7d058a",
   "metadata": {},
   "outputs": [],
   "source": []
  }
 ],
 "metadata": {
  "kernelspec": {
   "display_name": "Python 3 (ipykernel)",
   "language": "python",
   "name": "python3"
  },
  "language_info": {
   "codemirror_mode": {
    "name": "ipython",
    "version": 3
   },
   "file_extension": ".py",
   "mimetype": "text/x-python",
   "name": "python",
   "nbconvert_exporter": "python",
   "pygments_lexer": "ipython3",
   "version": "3.12.4"
  }
 },
 "nbformat": 4,
 "nbformat_minor": 5
}
